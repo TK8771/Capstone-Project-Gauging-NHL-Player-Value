{
 "cells": [
  {
   "cell_type": "code",
   "execution_count": null,
   "metadata": {},
   "outputs": [],
   "source": [
    "# Special loop for a \"special\" player - only cause he scored on 4 of 6 shootout attempts vs Russia in the 2014 Olympics\n",
    "if df_all['Player'].str.contains('Oshie') == True:\n",
    "        df_all['Player'] = df_all['Player'][df_all['Player'].str.contains('Oshie')].map(lambda x: x.replace('T J  Oshie','Tj Oshie'))\n",
    "    elif df_all['Player'].str.contains('Oshie') == False:\n",
    "        continue"
   ]
  }
 ],
 "metadata": {
  "kernelspec": {
   "display_name": "Python 3",
   "language": "python",
   "name": "python3"
  },
  "language_info": {
   "codemirror_mode": {
    "name": "ipython",
    "version": 3
   },
   "file_extension": ".py",
   "mimetype": "text/x-python",
   "name": "python",
   "nbconvert_exporter": "python",
   "pygments_lexer": "ipython3",
   "version": "3.6.5"
  }
 },
 "nbformat": 4,
 "nbformat_minor": 2
}
